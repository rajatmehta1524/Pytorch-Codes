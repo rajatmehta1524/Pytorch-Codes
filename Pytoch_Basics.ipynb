{
  "nbformat": 4,
  "nbformat_minor": 0,
  "metadata": {
    "colab": {
      "provenance": []
    },
    "kernelspec": {
      "name": "python3",
      "display_name": "Python 3"
    },
    "language_info": {
      "name": "python"
    }
  },
  "cells": [
    {
      "cell_type": "code",
      "execution_count": null,
      "metadata": {
        "id": "uwijHzqQuKA6"
      },
      "outputs": [],
      "source": [
        "import torch"
      ]
    },
    {
      "cell_type": "code",
      "source": [
        "tens1 = torch.tensor(4.0)\n",
        "print(tens1)\n",
        "tens1.dtype\n",
        "tens2 = torch.tensor([2, 3, 5.0,6])\n",
        "print(tens2)\n",
        "print(tens2.shape)\n",
        "\n",
        "tens3 = torch.tensor(1.0)\n",
        "tens4 = torch.tensor([1.0])\n",
        "tens5 = torch.tensor([[1.0]])\n",
        "\n",
        "print(\"....................\")\n",
        "print(\"Visualizing tensor shapes\")\n",
        "\n",
        "print(f\"Shape of tensor 1.0 is {tens3.shape}\")\n",
        "print(f\"Shape of tensor [1.0] is {tens4.shape}\")\n",
        "print(f\"Shape of tensor [[1.0]] is {tens5.shape}\")"
      ],
      "metadata": {
        "colab": {
          "base_uri": "https://localhost:8080/"
        },
        "id": "Y-Gh0KUouZvT",
        "outputId": "984fb752-2e1a-4cd5-fb48-97054e5bc6db"
      },
      "execution_count": null,
      "outputs": [
        {
          "output_type": "stream",
          "name": "stdout",
          "text": [
            "tensor(4.)\n",
            "tensor([2., 3., 5., 6.])\n",
            "torch.Size([4])\n",
            "....................\n",
            "Visualizing tensor shapes\n",
            "Shape of tensor 1.0 is torch.Size([])\n",
            "Shape of tensor [1.0] is torch.Size([1])\n",
            "Shape of tensor [[1.0]] is torch.Size([1, 1])\n"
          ]
        }
      ]
    },
    {
      "cell_type": "markdown",
      "source": [
        "Arithmetic Operations (requires_grad = True, .backward(), .grad() functions)\n"
      ],
      "metadata": {
        "id": "TQR3IcH51ke_"
      }
    },
    {
      "cell_type": "code",
      "source": [
        "# Applying arithmetic operation and calculating gradient\n",
        "\n",
        "x = torch.tensor(2.)\n",
        "w = torch.tensor(8., requires_grad = True)\n",
        "b = torch.tensor(5., requires_grad = True)\n",
        "\n",
        "y = x*w + b\n",
        "\n",
        "y.backward()\n",
        "\n",
        "print(f\"dy/dx is {x.grad}\")\n",
        "print(f\"dy/dw is {w.grad}\")\n",
        "print(f\"dy/db is {b.grad}\")\n",
        "\n",
        "print(\"Since we did not set requires_grad = True for x, we will get None for dy/dx\")\n",
        "\n",
        "z = w*2 + b*2\n",
        "\n",
        "z.backward()\n",
        "\n",
        "print(f\"dy/dx is {x.grad}\")\n",
        "print(f\"dy/dw is {w.grad}\")\n",
        "print(f\"dy/db is {b.grad}\")\n",
        "\n",
        "print(\"\"\"\\n  Since in back propogation, gradients from different paths coming to a single \n",
        "source are added together, we can observe here that .grad function is set in a manner \n",
        "to add the gradients after every call of .backward function, here dy/dw and dy/db are added with their previous results\"\"\")"
      ],
      "metadata": {
        "colab": {
          "base_uri": "https://localhost:8080/"
        },
        "id": "HfwowLjsujO5",
        "outputId": "de28b9fa-bf58-47db-bb51-387d6eec5b6e"
      },
      "execution_count": null,
      "outputs": [
        {
          "output_type": "stream",
          "name": "stdout",
          "text": [
            "dy/dx is None\n",
            "dy/dw is 2.0\n",
            "dy/db is 1.0\n",
            "Since we did not set requires_grad = True for x, we will get None for dy/dx\n",
            "dy/dx is None\n",
            "dy/dw is 4.0\n",
            "dy/db is 3.0\n",
            "\n",
            "  Since in back propogation, gradients from different paths coming to a single \n",
            "source are added together, we can observe here that .grad function is set in a manner \n",
            "to add the gradients after every call of .backward function, here dy/dw and dy/db are added with their previous results\n"
          ]
        }
      ]
    },
    {
      "cell_type": "markdown",
      "source": [
        "Convert From and To Numpy"
      ],
      "metadata": {
        "id": "n9I73aek8Ok3"
      }
    },
    {
      "cell_type": "code",
      "source": [
        "import numpy as np\n",
        "\n",
        "a = np.array([1,2,3])\n",
        "b = torch.from_numpy(a)\n",
        "c = b.numpy()\n",
        "print(b.dtype, c.dtype)"
      ],
      "metadata": {
        "id": "mXdGTP3B265M",
        "outputId": "6575cdb6-881b-4f1a-f1a5-f51829db99a3",
        "colab": {
          "base_uri": "https://localhost:8080/"
        }
      },
      "execution_count": null,
      "outputs": [
        {
          "output_type": "stream",
          "name": "stdout",
          "text": [
            "torch.int64 int64\n"
          ]
        }
      ]
    },
    {
      "cell_type": "code",
      "source": [],
      "metadata": {
        "id": "E2h8L8pXXKOi"
      },
      "execution_count": null,
      "outputs": []
    }
  ]
}