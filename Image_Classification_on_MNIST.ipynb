{
  "nbformat": 4,
  "nbformat_minor": 0,
  "metadata": {
    "colab": {
      "provenance": []
    },
    "kernelspec": {
      "name": "python3",
      "display_name": "Python 3"
    },
    "language_info": {
      "name": "python"
    }
  },
  "cells": [
    {
      "cell_type": "code",
      "source": [
        "import torch\n",
        "import torch.nn as nn\n",
        "import torch.nn.functional as F\n",
        "import torchvision\n",
        "import torchvision.transforms as transforms\n",
        "from torchvision.datasets import MNIST\n",
        "from torch.utils.data import DataLoader\n",
        "from torch.utils.data import random_split\n",
        "import matplotlib.pyplot as plt\n",
        "%matplotlib inline\n",
        "\n",
        "'''%matplotlib inline is used to make sure that the image from matlplotlib is opened in \n",
        "the same notebook and not a different pop-up. The \"%\" symbol is used for magic commands which are there for changing behavior of notebook'''\n"
      ],
      "metadata": {
        "id": "MAv2xKu5FTDR",
        "colab": {
          "base_uri": "https://localhost:8080/",
          "height": 53
        },
        "outputId": "74ed4a26-d22d-45a1-9328-094fa643d365"
      },
      "execution_count": null,
      "outputs": [
        {
          "output_type": "execute_result",
          "data": {
            "text/plain": [
              "'%matplotlib inline is used to make sure that the image from matlplotlib is opened in \\nthe same notebook and not a different pop-up. The \"%\" symbol is used for magic commands which are there for changing behavior of notebook'"
            ],
            "application/vnd.google.colaboratory.intrinsic+json": {
              "type": "string"
            }
          },
          "metadata": {},
          "execution_count": 2
        }
      ]
    },
    {
      "cell_type": "code",
      "source": [
        "## Setting up Hyperparameters\n",
        "\n",
        "batch_size = 128\n",
        "lr = 1e-5\n",
        "\n",
        "## Model Constraints\n",
        "\n",
        "image_size = 28*28\n",
        "num_classes = 10\n"
      ],
      "metadata": {
        "id": "TfeWHodinnDN"
      },
      "execution_count": null,
      "outputs": []
    },
    {
      "cell_type": "markdown",
      "source": [
        "Dataset Download and Preprocessing\n"
      ],
      "metadata": {
        "id": "tLIXH1gIq2fj"
      }
    },
    {
      "cell_type": "code",
      "source": [
        "# Download training and testing datasets \n",
        "'''The dataset is downloaded in the format of (Image, Label) where Image is the object of PIL.Image.Image class \n",
        "    while Label is the number represented in the MNIST Image, hence we use ToTensor() transform to convert them to tensors'''\n",
        "\n",
        "train_ds = MNIST('/root', download = True, transform = transforms.ToTensor())\n",
        "test_ds = MNIST('/root', train = False, transform = transforms.ToTensor())\n",
        "\n",
        "# Train Validation split using random_split\n",
        "train_ds, val_ds = random_split(train_ds, [50000, 10000])\n",
        "\n",
        "print(f\"length of training dataset is {len(train_ds)}\")\n",
        "print(f\"length of validation dataset is {len(val_ds)}\")\n",
        "print(f\"length of testing dataset is {len(test_ds)}\")\n",
        "\n",
        "# Define DataLoaders for creating batches of data\n",
        "\n",
        "train_dataloader = DataLoader(train_ds, batch_size, shuffle = True)\n",
        "val_dataloader   = DataLoader(val_ds, batch_size, shuffle = True )\n",
        "test_dataloader  = DataLoader(test_ds, batch_size, shuffle = True) \n",
        "\n",
        "image_sample, label_sample = train_ds[0]\n",
        "plt.imshow(image_sample[0,:,:], cmap = \"gray\")\n",
        "print(f\"The label of the image is {label_sample}\")"
      ],
      "metadata": {
        "colab": {
          "base_uri": "https://localhost:8080/",
          "height": 846
        },
        "id": "_tAEtHYcn2m8",
        "outputId": "578899a1-2801-46c2-ae20-958b88c4d6a1"
      },
      "execution_count": null,
      "outputs": [
        {
          "output_type": "stream",
          "name": "stdout",
          "text": [
            "Downloading http://yann.lecun.com/exdb/mnist/train-images-idx3-ubyte.gz\n",
            "Downloading http://yann.lecun.com/exdb/mnist/train-images-idx3-ubyte.gz to /root/MNIST/raw/train-images-idx3-ubyte.gz\n"
          ]
        },
        {
          "output_type": "stream",
          "name": "stderr",
          "text": [
            "100%|██████████| 9912422/9912422 [00:00<00:00, 90101491.11it/s]\n"
          ]
        },
        {
          "output_type": "stream",
          "name": "stdout",
          "text": [
            "Extracting /root/MNIST/raw/train-images-idx3-ubyte.gz to /root/MNIST/raw\n",
            "\n",
            "Downloading http://yann.lecun.com/exdb/mnist/train-labels-idx1-ubyte.gz\n",
            "Downloading http://yann.lecun.com/exdb/mnist/train-labels-idx1-ubyte.gz to /root/MNIST/raw/train-labels-idx1-ubyte.gz\n"
          ]
        },
        {
          "output_type": "stream",
          "name": "stderr",
          "text": [
            "100%|██████████| 28881/28881 [00:00<00:00, 39599769.15it/s]"
          ]
        },
        {
          "output_type": "stream",
          "name": "stdout",
          "text": [
            "Extracting /root/MNIST/raw/train-labels-idx1-ubyte.gz to /root/MNIST/raw\n",
            "\n",
            "Downloading http://yann.lecun.com/exdb/mnist/t10k-images-idx3-ubyte.gz\n",
            "Downloading http://yann.lecun.com/exdb/mnist/t10k-images-idx3-ubyte.gz to /root/MNIST/raw/t10k-images-idx3-ubyte.gz\n"
          ]
        },
        {
          "output_type": "stream",
          "name": "stderr",
          "text": [
            "\n",
            "100%|██████████| 1648877/1648877 [00:00<00:00, 24570703.69it/s]\n"
          ]
        },
        {
          "output_type": "stream",
          "name": "stdout",
          "text": [
            "Extracting /root/MNIST/raw/t10k-images-idx3-ubyte.gz to /root/MNIST/raw\n",
            "\n",
            "Downloading http://yann.lecun.com/exdb/mnist/t10k-labels-idx1-ubyte.gz\n",
            "Downloading http://yann.lecun.com/exdb/mnist/t10k-labels-idx1-ubyte.gz to /root/MNIST/raw/t10k-labels-idx1-ubyte.gz\n"
          ]
        },
        {
          "output_type": "stream",
          "name": "stderr",
          "text": [
            "100%|██████████| 4542/4542 [00:00<00:00, 7271194.19it/s]\n"
          ]
        },
        {
          "output_type": "stream",
          "name": "stdout",
          "text": [
            "Extracting /root/MNIST/raw/t10k-labels-idx1-ubyte.gz to /root/MNIST/raw\n",
            "\n",
            "length of training dataset is 50000\n",
            "length of validation dataset is 10000\n",
            "length of testing dataset is 10000\n",
            "The label of the image is 5\n"
          ]
        },
        {
          "output_type": "display_data",
          "data": {
            "text/plain": [
              "<Figure size 640x480 with 1 Axes>"
            ],
            "image/png": "[encoded data removed]"
          },
          "metadata": {}
        }
      ]
    },
    {
      "cell_type": "markdown",
      "source": [
        "Building Model"
      ],
      "metadata": {
        "id": "UZrtQ0rwCM2h"
      }
    },
    {
      "cell_type": "code",
      "source": [
        "class MNIST(nn.Module):\n",
        "  def __init__(self):\n",
        "    super().__init__()\n",
        "    self.linear = nn.Linear(image_size, num_classes) # imagesize and num_classes defined at the start\n",
        "  \n",
        "  def forward(self, images):\n",
        "    images = images.reshape(-1, 784) # Convert from tensor of size 128x1x28x28 into a matrix of size 128x784 (\"-1\" in the reshape function is used for stating that one size should be 784, the other dimension can be adjusted accordingly).\n",
        "    images = self.linear(images)\n",
        "    return images\n",
        "\n",
        "  def training_step(self, batch):\n",
        "    images, labels = batch\n",
        "    preds = self(images)\n",
        "    loss = F.cross_entropy(preds, labels)\n",
        "    return loss\n",
        "\n",
        "  def validation_step(self, batch):\n",
        "    images, labels = batch\n",
        "    preds = self(images)\n",
        "    loss = F.cross_entropy(preds, labels)\n",
        "    acc = accuracy(preds, labels)\n",
        "    return {'val_loss': loss.detach(), 'val_acc': acc.detach()} # .detach() is used to detach a tensor from computational graph, it'll return a new tensor which doesn't require a gradient \n",
        "\n",
        "  def validation_epoch_end(self, epoch_results):\n",
        "    batch_losses = [x['val_loss'] for x in epoch_results]\n",
        "    epoch_losses = torch.stack(batch_losses).mean()  \n",
        "    batch_acc = [x['val_acc'] for x in epoch_results]\n",
        "    epoch_acc = torch.stack(batch_acc).mean()\n",
        "    return {'val_loss': epoch_losses.item(), 'val_acc': epoch_acc.item()} \n",
        "\n",
        "\n",
        "  def epoch_end(self, epoch_num, results):\n",
        "    print(\"Epoch [{}], val_loss: {:.4f}, val_accuracy : {:.4f} \".format(epoch_num, results['val_loss'], results['val_acc']))\n"
      ],
      "metadata": {
        "id": "tiQ1-RyCsWR3"
      },
      "execution_count": null,
      "outputs": []
    },
    {
      "cell_type": "code",
      "source": [
        "# Creating Model Object\n",
        "model = MNIST()"
      ],
      "metadata": {
        "id": "Qq7F7o_7M8MR"
      },
      "execution_count": null,
      "outputs": []
    },
    {
      "cell_type": "markdown",
      "source": [
        "Training the model"
      ],
      "metadata": {
        "id": "nNdv_MKJUe9S"
      }
    },
    {
      "cell_type": "code",
      "source": [
        "# Function for training the model\n",
        "\n",
        "def fit(epochs, lr, model, train_dataloader, val_dataloader, opt_fn = torch.optim.SGD ):\n",
        "  history = []\n",
        "  opt = opt_fn(model.parameters(), lr)\n",
        "\n",
        "  for epoch in range(epochs):\n",
        "\n",
        "    # Training Loop\n",
        "\n",
        "    for batch in train_dataloader:\n",
        "      loss = model.training_step(batch)\n",
        "      loss.backward()\n",
        "      opt.step()\n",
        "      opt.zero_grad()\n",
        "\n",
        "    # Validation step\n",
        "\n",
        "    result = evaluate(model, val_dataloader)\n",
        "    model.epoch_end(epoch, result)\n",
        "    history.append(result)\n",
        "\n",
        "  return history\n",
        "\n",
        "# Function doing the evaluation process\n",
        "def evaluate(model, val_dataloader):\n",
        "  preds = [model.validation_step(batch) for batch in val_dataloader]\n",
        "  return model.validation_epoch_end(preds)\n",
        "\n",
        "# Function calculating the accuracy\n",
        "def accuracy(results, labels):\n",
        "  value, preds = torch.max(results, dim = 1 )\n",
        "  return torch.tensor(torch.sum(preds == labels).item()/len(preds))\n"
      ],
      "metadata": {
        "id": "FZedFO7xNBqZ"
      },
      "execution_count": null,
      "outputs": []
    },
    {
      "cell_type": "code",
      "source": [
        "# Initial Loss and Accuracy before training\n",
        "evaluate(model, val_dataloader)"
      ],
      "metadata": {
        "colab": {
          "base_uri": "https://localhost:8080/"
        },
        "id": "km8uJ7fmwx4q",
        "outputId": "253f9fbf-182d-4fae-afb2-56480b15b85d"
      },
      "execution_count": null,
      "outputs": [
        {
          "output_type": "execute_result",
          "data": {
            "text/plain": [
              "{'val_loss': 2.325991153717041, 'val_acc': 0.05419303849339485}"
            ]
          },
          "metadata": {},
          "execution_count": 8
        }
      ]
    },
    {
      "cell_type": "code",
      "source": [
        "# Train the model\n",
        "history = fit(10, 1e-3, model, train_dataloader, val_dataloader )"
      ],
      "metadata": {
        "colab": {
          "base_uri": "https://localhost:8080/"
        },
        "id": "Y3SyVa5tw7Ek",
        "outputId": "0b281725-4816-4049-f5c1-f3fe7a5f88b3"
      },
      "execution_count": null,
      "outputs": [
        {
          "output_type": "stream",
          "name": "stdout",
          "text": [
            "Epoch [0], val_loss: 1.9467, val_accuracy : 0.6124 \n",
            "Epoch [1], val_loss: 1.6769, val_accuracy : 0.7170 \n",
            "Epoch [2], val_loss: 1.4763, val_accuracy : 0.7542 \n",
            "Epoch [3], val_loss: 1.3251, val_accuracy : 0.7763 \n",
            "Epoch [4], val_loss: 1.2089, val_accuracy : 0.7914 \n",
            "Epoch [5], val_loss: 1.1189, val_accuracy : 0.8019 \n",
            "Epoch [6], val_loss: 1.0405, val_accuracy : 0.8140 \n",
            "Epoch [7], val_loss: 0.9847, val_accuracy : 0.8189 \n",
            "Epoch [8], val_loss: 0.9308, val_accuracy : 0.8254 \n",
            "Epoch [9], val_loss: 0.8936, val_accuracy : 0.8269 \n"
          ]
        }
      ]
    },
    {
      "cell_type": "code",
      "source": [
        "accuracies = [r['val_acc'] for r in history]\n",
        "plt.plot(accuracies, '-x')\n",
        "plt.xlabel('epoch')\n",
        "plt.ylabel('accuracy')\n",
        "plt.title('Accuracy vs. No. of epochs');\n",
        "\n",
        "plt.show()\n",
        "\n",
        "losses = [r['val_loss'] for r in history]\n",
        "plt.plot(losses, '-x')\n",
        "plt.xlabel('epoch')\n",
        "plt.ylabel('loss')\n",
        "plt.title('Loss vs. No. of epochs');"
      ],
      "metadata": {
        "colab": {
          "base_uri": "https://localhost:8080/",
          "height": 927
        },
        "id": "qJqY9rpR0XE3",
        "outputId": "ed80d605-a3f2-4543-b208-4d0864c83b25"
      },
      "execution_count": null,
      "outputs": [
        {
          "output_type": "display_data",
          "data": {
            "text/plain": [
              "<Figure size 640x480 with 1 Axes>"
            ],
            "image/png": "[encoded data removed]"
          },
          "metadata": {}
        },
        {
          "output_type": "display_data",
          "data": {
            "text/plain": [
              "<Figure size 640x480 with 1 Axes>"
            ],
            "image/png": "[encoded data removed]"
          },
          "metadata": {}
        }
      ]
    },
    {
      "cell_type": "code",
      "source": [
        "# Evaluating on the test dataset\n",
        "\n",
        "test_results = evaluate(model, test_dataloader)\n",
        "print(test_results)"
      ],
      "metadata": {
        "colab": {
          "base_uri": "https://localhost:8080/"
        },
        "id": "DlYijTLp7S44",
        "outputId": "44a23df3-c987-4738-f6bb-a46cb90bf0d8"
      },
      "execution_count": null,
      "outputs": [
        {
          "output_type": "stream",
          "name": "stdout",
          "text": [
            "{'val_loss': 0.8683179020881653, 'val_acc': 0.8395965099334717}\n"
          ]
        }
      ]
    },
    {
      "cell_type": "markdown",
      "source": [
        "Predicting Labels on the trained Model"
      ],
      "metadata": {
        "id": "rGo5wFCnAlCZ"
      }
    },
    {
      "cell_type": "code",
      "source": [
        "def predict_label(image, model):\n",
        "  image = image.unsqueeze(0) # This will return a new tensor with a dimension added at the 0th position, i.e. shape changed from 1x28x28 to 1x1x28x28\n",
        "  labels = model(image)\n",
        "  _, pred_label = torch.max(labels, dim = 1)\n",
        "  return pred_label[0].item()\n",
        "\n",
        "\n",
        "img, label = test_ds[70]\n",
        "plt.imshow(img[0,:,:], cmap = 'gray')\n",
        "print(\"Ground Truth Label: {}, Predicted Label: {}\".format(label, predict_label(img, model)))\n",
        "plt.show()\n",
        "\n",
        "img, label = test_ds[170]\n",
        "plt.imshow(img[0,:,:], cmap = 'gray')\n",
        "print(\"Ground Truth Label: {}, Predicted Label: {}\".format(label, predict_label(img, model)))\n",
        "plt.show()\n",
        "\n",
        "img, label = test_ds[700]\n",
        "plt.imshow(img[0,:,:], cmap = 'gray')\n",
        "print(\"Ground Truth Label: {}, Predicted Label: {}\".format(label, predict_label(img, model)))\n"
      ],
      "metadata": {
        "colab": {
          "base_uri": "https://localhost:8080/",
          "height": 1000
        },
        "id": "XNBi0486AeXJ",
        "outputId": "58303043-38f4-43b4-906a-88b8895488ab"
      },
      "execution_count": null,
      "outputs": [
        {
          "output_type": "stream",
          "name": "stdout",
          "text": [
            "Ground Truth Label: 7, Predicted Label: 7\n"
          ]
        },
        {
          "output_type": "display_data",
          "data": {
            "text/plain": [
              "<Figure size 640x480 with 1 Axes>"
            ],
            "image/png": "[encoded data removed]"
          },
          "metadata": {}
        },
        {
          "output_type": "stream",
          "name": "stdout",
          "text": [
            "Ground Truth Label: 4, Predicted Label: 4\n"
          ]
        },
        {
          "output_type": "display_data",
          "data": {
            "text/plain": [
              "<Figure size 640x480 with 1 Axes>"
            ],
            "image/png": "[encoded data removed]"
          },
          "metadata": {}
        },
        {
          "output_type": "stream",
          "name": "stdout",
          "text": [
            "Ground Truth Label: 1, Predicted Label: 1\n"
          ]
        },
        {
          "output_type": "display_data",
          "data": {
            "text/plain": [
              "<Figure size 640x480 with 1 Axes>"
            ],
            "image/png": "[encoded data removed]"
          },
          "metadata": {}
        }
      ]
    },
    {
      "cell_type": "markdown",
      "source": [
        "Saving Model Parameters"
      ],
      "metadata": {
        "id": "ob1vJi2wDxRx"
      }
    },
    {
      "cell_type": "code",
      "source": [
        "torch.save(model.state_dict(), 'mnist.pth') # Saves a serialized object (containg model parameters and weights) on disk. It uses Python's pickle library for storing."
      ],
      "metadata": {
        "id": "DUhS2WEEBeCA"
      },
      "execution_count": null,
      "outputs": []
    },
    {
      "cell_type": "code",
      "source": [],
      "metadata": {
        "id": "vgtyz9VhDIP2"
      },
      "execution_count": null,
      "outputs": []
    }
  ]
}